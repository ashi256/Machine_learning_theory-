{
 "cells": [
  {
   "cell_type": "code",
   "execution_count": null,
   "metadata": {},
   "outputs": [],
   "source": [
    "#1\n",
    "Machine learning is the concept that a computer program can learn \n",
    "and adapt to new data without human intervention"
   ]
  },
  {
   "cell_type": "code",
   "execution_count": null,
   "metadata": {},
   "outputs": [],
   "source": [
    "#2\n",
    "spam mail detection\n",
    "prediction\n",
    "fraud credit card transcation\n",
    "self driving vechiles"
   ]
  },
  {
   "cell_type": "code",
   "execution_count": null,
   "metadata": {},
   "outputs": [],
   "source": [
    "#3\n",
    "labeled training set - is the set of features that are independent features\n",
    "that are used for the prediction of target variables\n",
    "dividing these features to train and test will help us validate \n",
    "the result "
   ]
  },
  {
   "cell_type": "code",
   "execution_count": null,
   "metadata": {},
   "outputs": [],
   "source": [
    "#4\n",
    "regression and classification"
   ]
  },
  {
   "cell_type": "code",
   "execution_count": null,
   "metadata": {},
   "outputs": [],
   "source": [
    "#5\n",
    "inclused clustering, visualization, dimensionality reduction ,\n",
    "and association rule learning."
   ]
  },
  {
   "cell_type": "code",
   "execution_count": null,
   "metadata": {},
   "outputs": [],
   "source": [
    "#6\n",
    "reinforcement learning as it is technique based on rewards\n",
    "or punishments based on the action performed."
   ]
  },
  {
   "cell_type": "code",
   "execution_count": null,
   "metadata": {},
   "outputs": [],
   "source": [
    "#7\n",
    "I would use some sort of clustering algorithm that can find the decision \n",
    "boundaries in the groups automatically. This is an unsupervised approach.\n",
    "However, if I already knew the categories of my customers, then I would choose a \n",
    "supervised approach and go with a classification algorithm."
   ]
  },
  {
   "cell_type": "code",
   "execution_count": null,
   "metadata": {},
   "outputs": [],
   "source": [
    "#8\n",
    "supervised as human have tendency to detect what spam is \n",
    "what's not"
   ]
  },
  {
   "cell_type": "code",
   "execution_count": null,
   "metadata": {},
   "outputs": [],
   "source": [
    "#9\n",
    "reinforcement learning"
   ]
  },
  {
   "cell_type": "code",
   "execution_count": null,
   "metadata": {},
   "outputs": [],
   "source": [
    "#10\n",
    "Out-of-core learning refers to a set of algorithms working with data that cannot fit \n",
    "into the memory of a single computer, but that can easily fit into some data storage \n",
    "such as a local hard disk or web repository."
   ]
  },
  {
   "cell_type": "code",
   "execution_count": null,
   "metadata": {},
   "outputs": [],
   "source": [
    "#11\n",
    "instance-based algorithm."
   ]
  },
  {
   "cell_type": "code",
   "execution_count": null,
   "metadata": {},
   "outputs": [],
   "source": [
    "#12\n",
    "Model Parameters: These are the parameters in the model that must be determined using the training data set\n",
    "Hyperparameters: These are adjustable parameters that must be tuned in order to obtain a model with optimal performance."
   ]
  },
  {
   "cell_type": "code",
   "execution_count": null,
   "metadata": {},
   "outputs": [],
   "source": [
    "#13\n",
    "The goal for a model-based algorithm is to be able to generalize to new examples. \n",
    "To do this, model based algorithms search for optimal values for the model's parameters, \n",
    "often called theta. This searching, or \"learning\", is what machine learning is all about. \n",
    "Model-based system learn by minimizing a cost function that measures how bad the system is at \n",
    "making predicitons on new data, plus a penalty for model complexity if the model is regularized. \n",
    "To make a prediction, a new instance's features are fed into a hypothesis function which uses the\n",
    "minimized theta found by repeatedly running the cost function."
   ]
  },
  {
   "cell_type": "code",
   "execution_count": null,
   "metadata": {},
   "outputs": [],
   "source": [
    "#14\n",
    "1- Model getting overfit\n",
    "2- Model getting underfit\n",
    "3-features are irrevalent\n",
    "4-Not gattering enough data or there begin too nosiy data"
   ]
  },
  {
   "cell_type": "code",
   "execution_count": null,
   "metadata": {},
   "outputs": [],
   "source": [
    "#15\n",
    "In this case the model is overfit, we tend to do feature scaling\n",
    ",feature extraction or try to reduce the noise by removing the \n",
    "outliners or add more data"
   ]
  },
  {
   "cell_type": "code",
   "execution_count": null,
   "metadata": {},
   "outputs": [],
   "source": [
    "#16\n",
    "test data - is the part of the dataset we had for analysis, it used to \n",
    "test how well our model works with new set values begin provided to it."
   ]
  },
  {
   "cell_type": "code",
   "execution_count": null,
   "metadata": {},
   "outputs": [],
   "source": [
    "#17\n",
    "so that we don't overfit our model by continously testing it over the test set,we should use our the test set only once when we finally choose which model to use,\n",
    "before that to test our model we should use vaildation set."
   ]
  },
  {
   "cell_type": "code",
   "execution_count": null,
   "metadata": {},
   "outputs": [],
   "source": [
    "#18\n",
    "model will not be generalized to new samples"
   ]
  },
  {
   "cell_type": "code",
   "execution_count": null,
   "metadata": {},
   "outputs": [],
   "source": [
    "#19\n",
    "cross validation - to validate the model on unseen data\n",
    "it is used to limited sample in order to estimate how the model\n",
    "is expectec to perform in general when used to make predictions \n",
    "on data not used during the training of the model."
   ]
  }
 ],
 "metadata": {
  "kernelspec": {
   "display_name": "Python 3",
   "language": "python",
   "name": "python3"
  },
  "language_info": {
   "codemirror_mode": {
    "name": "ipython",
    "version": 3
   },
   "file_extension": ".py",
   "mimetype": "text/x-python",
   "name": "python",
   "nbconvert_exporter": "python",
   "pygments_lexer": "ipython3",
   "version": "3.8.5"
  }
 },
 "nbformat": 4,
 "nbformat_minor": 4
}
