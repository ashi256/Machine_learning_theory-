{
 "cells": [
  {
   "cell_type": "code",
   "execution_count": null,
   "metadata": {},
   "outputs": [],
   "source": [
    "#1\n",
    "understaning the business point of the data\n",
    "preprocssing of the data \n",
    "experimenting with different so as to give best model for prediction,if required going back to preprocessing the data"
   ]
  },
  {
   "cell_type": "code",
   "execution_count": null,
   "metadata": {},
   "outputs": [],
   "source": [
    "#2\n",
    "The “No Free Lunch” Theorem argues that, without having substantive information about the modeling problem, \n",
    "there is no single model that will always do better than any other model. Because of this, a strong case \n",
    "can be made to try a wide variety of techniques, then determine which model to focus on."
   ]
  },
  {
   "cell_type": "code",
   "execution_count": null,
   "metadata": {},
   "outputs": [],
   "source": [
    "#3\n",
    "k fold cross validation is used to divide the dataset into traing and testing, where k represent any integer values,\n",
    "for eg if we have k = 5, so k-1 - 4 sub samples will go for traing and 1 for testing\n"
   ]
  },
  {
   "cell_type": "code",
   "execution_count": null,
   "metadata": {},
   "outputs": [],
   "source": [
    "#4\n",
    "Bootstrapping method uses the \n",
    "original dataset to create multiple datasets after resampling with replacement. Bootstrapping is related to the ensemble \n",
    "training methods,because we can build a model using each bootstrap datasets and “bag” these models in an ensemble using \n",
    "the majority voting (for classification) or computing the average (for numerical predictions) for all of these models as \n",
    "our final result."
   ]
  },
  {
   "cell_type": "code",
   "execution_count": null,
   "metadata": {},
   "outputs": [],
   "source": [
    "#5\n",
    "Cohen's Kappa is a statistical measure that is used to measure the reliability of two raters who are rating the \n",
    "same quantity and identifies how frequently the raters are in agreement"
   ]
  },
  {
   "cell_type": "code",
   "execution_count": null,
   "metadata": {},
   "outputs": [],
   "source": [
    "#6\n",
    "Ensemble methods is a machine learning technique that combines several base models in order to produce one optimal \n",
    "predictive model.The goal of any machine learning problem is to find a single model that will best predict our wanted\n",
    "outcome. Rather than making one model and hoping this model is the best/most accurate predictor we can make, ensemble \n",
    "methods take a myriad of models into account, and average those models to produce one final model."
   ]
  },
  {
   "cell_type": "code",
   "execution_count": null,
   "metadata": {},
   "outputs": [],
   "source": [
    "#7\n",
    "Descriptive modeling is a mathematical process that describes real-world events and the relationships between factors\n",
    "responsible for them. The process is used by consumer-driven organizations to help them target their marketing and\n",
    "advertising efforts"
   ]
  },
  {
   "cell_type": "code",
   "execution_count": null,
   "metadata": {},
   "outputs": [],
   "source": [
    "#8\n",
    "There are 3 main metrics for model evaluation in regression:\n",
    "R Square/Adjusted R Square.\n",
    "Mean Square Error(MSE)/Root Mean Square Error(RMSE)\n",
    "Mean Absolute Error(MAE)"
   ]
  },
  {
   "cell_type": "code",
   "execution_count": null,
   "metadata": {},
   "outputs": [],
   "source": [
    "#9\n",
    "#2\n",
    "This situation where any given model is performing too well on the training data but the performance \n",
    "drops significantly over the test set is called an overfitting model.\n",
    "On the other hand, if the model is performing poorly over the test and the train set, \n",
    "then we call that an underfitting model."
   ]
  },
  {
   "cell_type": "code",
   "execution_count": null,
   "metadata": {},
   "outputs": [],
   "source": [
    "#3\n",
    "Cross validation splits the available dataset to create multiple datasets, and Bootstrapping method uses the \n",
    "original dataset to create multiple datasets after resampling with replacement. Bootstrapping is related to the ensemble \n",
    "training methods,because we can build a model using each bootstrap datasets and “bag” these models in an ensemble using \n",
    "the majority voting (for classification) or computing the average (for numerical predictions) for all of these models as \n",
    "our final result."
   ]
  },
  {
   "cell_type": "code",
   "execution_count": null,
   "metadata": {},
   "outputs": [],
   "source": [
    "#1\n",
    "Descriptive Analytics uses Data Aggregation and Data Mining techniques to give you knowledge about past but \n",
    "Predictive Analytics uses Statistical analysis and Forecast techniques to know the future\n",
    "\n",
    "Descriptive Analytics is used when you need to analyze and explain different aspects of your organization whereas \n",
    "Predictive Analytics is used when you need to know anything about the future and fill the information that you do not know.\n",
    "\n",
    "A descriptive model will exploit the past data that are stored in databases and provide you with the accurate report. \n",
    "In a Predictive model, it identifies patterns found in past and transactional data to find risks and future outcomes."
   ]
  },
  {
   "cell_type": "code",
   "execution_count": null,
   "metadata": {},
   "outputs": [],
   "source": [
    "#10\n",
    "#1\n",
    "Leave-one-out cross-validation, or LOOCV, is a configuration of k-fold cross-validation where k is set \n",
    "to the number of examples in the dataset.LOOCV is an extreme version of k-fold cross-validation that has \n",
    "the maximum computational cost. It requires one model to be created and evaluated for each example in the training dataset."
   ]
  },
  {
   "cell_type": "code",
   "execution_count": null,
   "metadata": {},
   "outputs": [],
   "source": [
    "#2\n",
    "F-Score is a harmonic mean of precision and recal\n",
    "= (precision*recal)/(precision+recall)"
   ]
  },
  {
   "cell_type": "code",
   "execution_count": null,
   "metadata": {},
   "outputs": [],
   "source": [
    "#3\n",
    "Silhouette Coefficient or silhouette score is a metric used to calculate the goodness of a clustering technique. \n",
    "Its value ranges from -1 to 1.\n",
    "1: Means clusters are well apart from each other and clearly distinguished.\n",
    "0: Means clusters are indifferent, or we can say that the distance between clusters is not significant.\n",
    "-1: Means clusters are assigned in the wrong way\n",
    "Silhouette Score = (b-a)/max(a,b)\n",
    "where\n",
    "a= average intra-cluster distance i.e the average distance between each point within a cluster.\n",
    "b= average inter-cluster distance i.e the average distance between all clusters."
   ]
  },
  {
   "cell_type": "code",
   "execution_count": null,
   "metadata": {},
   "outputs": [],
   "source": [
    "#4\n",
    "ROC space is defined by FPR and TPR as x and y axes, respectively, which depicts relative trade-offs between true \n",
    "positive (benefits) and false positive (costs).The best possible prediction method would yield a point in the upper left \n",
    "corner or coordinate (0,1) of the ROC space, representing 100% sensitivity (no false negatives) and 100% specificity \n",
    "(no false positives). The (0,1) point is also called a perfect classification. "
   ]
  }
 ],
 "metadata": {
  "kernelspec": {
   "display_name": "Python 3",
   "language": "python",
   "name": "python3"
  },
  "language_info": {
   "codemirror_mode": {
    "name": "ipython",
    "version": 3
   },
   "file_extension": ".py",
   "mimetype": "text/x-python",
   "name": "python",
   "nbconvert_exporter": "python",
   "pygments_lexer": "ipython3",
   "version": "3.8.5"
  }
 },
 "nbformat": 4,
 "nbformat_minor": 4
}
