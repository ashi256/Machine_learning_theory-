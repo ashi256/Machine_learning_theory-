{
 "cells": [
  {
   "cell_type": "code",
   "execution_count": null,
   "metadata": {},
   "outputs": [],
   "source": [
    "#1\n",
    "Bayesian statistics is a mathematical procedure that applies probabilities to statistical problems. \n",
    "It provides people the tools to update their beliefs in the evidence of new data."
   ]
  },
  {
   "cell_type": "code",
   "execution_count": null,
   "metadata": {},
   "outputs": [],
   "source": [
    "#2\n",
    "The probability of the union of two events E and F equals the sum of the probability of E and the probability of F \n",
    "minus the probability of E and F occurring together"
   ]
  },
  {
   "cell_type": "code",
   "execution_count": null,
   "metadata": {},
   "outputs": [],
   "source": [
    "#3\n",
    "Probabilities are combined using multiplication, therefore the joint probability of independent events is calculated as \n",
    "the probability of event A multiplied by the probability of event B. \n",
    "This can be stated formally as follows: Joint Probability: P(A and B) = P(A) * P(B)"
   ]
  },
  {
   "cell_type": "code",
   "execution_count": null,
   "metadata": {},
   "outputs": [],
   "source": [
    "#4\n",
    "The probability chain is a random process in which someone transmits the information to others in accordance with \n",
    "the laws of probability and then these others tell still others in a similar way. This chain may also be called \n",
    "random process"
   ]
  },
  {
   "cell_type": "code",
   "execution_count": null,
   "metadata": {},
   "outputs": [],
   "source": [
    "#5\n",
    "Conditional probability: p(A|B) is the probability of event A occurring, given that event B occurs.\n",
    "P(A | B) = P(A∩B) / P(B)"
   ]
  },
  {
   "cell_type": "code",
   "execution_count": null,
   "metadata": {},
   "outputs": [],
   "source": [
    "#6\n",
    "A continuous random variable is one which takes an infinite number of possible values. \n",
    "Continuous random variables are usually measurements. \n",
    "Examples include height, weight, the amount of sugar in an orange, the time required to run a mile."
   ]
  },
  {
   "cell_type": "code",
   "execution_count": null,
   "metadata": {},
   "outputs": [],
   "source": [
    "#7\n",
    "Bernoulli distribution is a discrete probability distribution where the Bernoulli random variable \n",
    "can have only 0 or 1 as the outcome. p is the probability of success and 1 - p is the probability of failure. \n",
    "The mean of a Bernoulli distribution is E[X] = p and the variance, Var[X] = p(1-p).\n"
   ]
  },
  {
   "cell_type": "code",
   "execution_count": null,
   "metadata": {},
   "outputs": [],
   "source": [
    "#8\n",
    "What is a Binomial Distribution? A binomial distribution can be thought of as simply the probability of a \n",
    "SUCCESS or FAILURE outcome in an experiment or survey that is repeated multiple times\n",
    "P(x) = nCx · px (1 − p)n−x"
   ]
  },
  {
   "cell_type": "code",
   "execution_count": null,
   "metadata": {},
   "outputs": [],
   "source": [
    "#9\n",
    "In statistics, a Poisson distribution is a probability distribution that is used to show how many \n",
    "times an event is likely to occur over a specified period. In other words, it is a count distribution.\n",
    " P(x; μ) = (e-μ) (μx) / x!"
   ]
  },
  {
   "cell_type": "code",
   "execution_count": null,
   "metadata": {},
   "outputs": [],
   "source": [
    "#10\n",
    "Covariance is a measure of how much two random variables vary together. \n",
    "It's similar to variance, but where variance tells you how a single variable varies, \n",
    "co variance tells you how two variables vary together. also it gives a value between -infinity to +infinity"
   ]
  },
  {
   "cell_type": "code",
   "execution_count": null,
   "metadata": {},
   "outputs": [],
   "source": [
    "#11\n",
    "correlation is similar to that of covarinnce inly difference it give values betwwen -1 to +1"
   ]
  },
  {
   "cell_type": "code",
   "execution_count": null,
   "metadata": {},
   "outputs": [],
   "source": [
    "#12\n",
    "Sampling with replacement is used to find probability with replacement. In other words, you want to find \n",
    "the probability of some event where there’s a number of balls, cards or other objects, and \n",
    "you replace the item each time you choose one.Let’s say you had a population of 7 people, and you wanted to sample 2.\n",
    "Their names are:\n",
    "John\n",
    "Jack\n",
    "Qiu\n",
    "Tina\n",
    "Hatty\n",
    "Jacques\n",
    "Des\n",
    "\n",
    "You could put their names in a hat. If you sample with replacement, you would choose one person’s name, \n",
    "put that person’s name back in the hat, and then choose another name. The possibilities for your two-name sample are:\n",
    "John, John\n",
    "John, Jack\n",
    "John, Qui\n",
    "Jack, Qui\n",
    "Jack Tina\n",
    "…and so on.\n",
    "\n",
    "When you sample with replacement, your two items are independent. In other words, one does not affect \n",
    "the outcome of the other. You have a 1 out of 7 (1/7) chance of choosing the first name and a 1/7 chance \n",
    "of choosing the second name.\n",
    "P(John, John) = (1/7) * (1/7) = .02.\n",
    "P(John, Jack) = (1/7) * (1/7) = .02.\n",
    "P(John, Qui) = (1/7) * (1/7) = .02.\n",
    "P(Jack, Qui) = (1/7) * (1/7) = .02.\n",
    "P(Jack Tina) = (1/7) * (1/7) = .02."
   ]
  },
  {
   "cell_type": "code",
   "execution_count": null,
   "metadata": {},
   "outputs": [],
   "source": [
    "#13\n",
    "Sampling without Replacement is a way to figure out probability without replacement. \n",
    "In other words, you don’t replace the first item you choose before you choose a second. \n",
    "This dramatically changes the odds of choosing sample items. Taking the above example, you would \n",
    "have the same list of names to choose two people from. \n",
    "And your list of results would similar, except you couldn’t choose the same person twice:\n",
    "John, Jack\n",
    "John, Qui\n",
    "Jack, Qui\n",
    "Jack Tina…\n",
    "But now, your two items are dependent, or linked to each other. When you choose the first item, you have a 1/7 probability of picking a name. But then, assuming you don’t replace the name, you only have six names to pick from. That gives you a 1/6 chance of choosing a second name. The odds become:\n",
    "\n",
    "P(John, Jack) = (1/7) * (1/6) = .024.\n",
    "P(John, Qui) = (1/7) * (1/6) = .024.\n",
    "P(Jack, Qui) = (1/7) * (1/6) = .024.\n",
    "P(Jack Tina) = (1/7) * (1/6) = .024…"
   ]
  },
  {
   "cell_type": "code",
   "execution_count": null,
   "metadata": {},
   "outputs": [],
   "source": [
    "#14\n",
    "Hypothesis is assuming the assumption of yours to be true  and the experimentaing and proving it \n",
    "such as if someone eats a lot of sugar, then they will develop cavities in their teeth. \n",
    "These statements identify specific variables (in this case, eating a large amount of sugar) \n",
    "and propose a result (in this case, teeth developing cavities)."
   ]
  }
 ],
 "metadata": {
  "kernelspec": {
   "display_name": "Python 3",
   "language": "python",
   "name": "python3"
  },
  "language_info": {
   "codemirror_mode": {
    "name": "ipython",
    "version": 3
   },
   "file_extension": ".py",
   "mimetype": "text/x-python",
   "name": "python",
   "nbconvert_exporter": "python",
   "pygments_lexer": "ipython3",
   "version": "3.8.5"
  }
 },
 "nbformat": 4,
 "nbformat_minor": 4
}
